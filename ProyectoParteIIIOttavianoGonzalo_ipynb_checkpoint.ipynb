{
  "cells": [
    {
      "cell_type": "markdown",
      "metadata": {
        "id": "view-in-github",
        "colab_type": "text"
      },
      "source": [
        "<a href=\"https://colab.research.google.com/github/gonoott/EntregaFinalOttavianoGonzalo/blob/main/ProyectoParteIIIOttavianoGonzalo_ipynb_checkpoint.ipynb\" target=\"_parent\"><img src=\"https://colab.research.google.com/assets/colab-badge.svg\" alt=\"Open In Colab\"/></a>"
      ]
    },
    {
      "cell_type": "markdown",
      "id": "062cfa98-be39-4750-a4f0-3acfcf663f6b",
      "metadata": {
        "id": "062cfa98-be39-4750-a4f0-3acfcf663f6b"
      },
      "source": [
        "# Entrega final proyecto Datascience: Vehiculos de importacion 1985"
      ]
    },
    {
      "cell_type": "markdown",
      "id": "0497805e-6123-4ea9-a0ca-fb13dccd0a82",
      "metadata": {
        "id": "0497805e-6123-4ea9-a0ca-fb13dccd0a82"
      },
      "source": [
        "**Objteivo**: Implementar un modelo supervisado predictivo para variables categoricas que me permita predecir el tipo de combustible segun diferentes caracteristicas del vehiculo.\n"
      ]
    },
    {
      "cell_type": "markdown",
      "id": "630e1a16-f5e5-4b32-b452-e2eb59104f3f",
      "metadata": {
        "id": "630e1a16-f5e5-4b32-b452-e2eb59104f3f"
      },
      "source": [
        "# Indice:\n",
        "\n",
        "#### 1. Introduccion y objetivo\n",
        "#### 2. Hipotesis\n",
        "#### 3. Carga y procesamiento\n",
        "#### 4. Variable objetivo y codificacion\n",
        "#### 5. Division del dataset\n",
        "#### 6. Entrenar modelo\n",
        "#### 7. Evaluar modelo\n",
        "#### 8. Resultados\n",
        "#### 9. Conclusion"
      ]
    },
    {
      "cell_type": "markdown",
      "id": "1d306065-3506-4810-9392-23794332f4c4",
      "metadata": {
        "id": "1d306065-3506-4810-9392-23794332f4c4"
      },
      "source": [
        "### Introduccion y Objetivo\n",
        "Este proyecto tiene como finalidad predecir el tipo de combustible de los vehiculos de importacion en la ciudad de Ney York, para una empresa petrolifera que desea estimar la demanda de combustible de años venideros y no posee la informacion completa, ya que hay base de datos como las de las agencias de seguro que no tienen dicha caracteristicas descipra. Por eso se opto por desarrollar un modelo predictivo basado en las fichas tecnicas de de los vehiculos importados.\n"
      ]
    },
    {
      "cell_type": "markdown",
      "id": "da3d1625-1ee3-4c35-9f95-8ba7e5526d2f",
      "metadata": {
        "id": "da3d1625-1ee3-4c35-9f95-8ba7e5526d2f"
      },
      "source": [
        "## Hipoteis\n",
        "\n",
        "***Hipotesis nula (H0)***: No hay diferencia significativa en las características de los vehículos entre los que utilizan combustible de gasolina y            los que utilizan combustible diesel. Es decir, las características de los vehículos no permiten predecir el tipo de combustible.  \n",
        "\n",
        "***Hipotesis alternativa (H1)***: Hay una diferencia significativa en las características de los vehículos entre los que utilizan combustible de               gasolina y los que utilizan combustible diesel. Es decir, las características de los vehículos permiten predecir el tipo de combustible.    "
      ]
    },
    {
      "cell_type": "markdown",
      "id": "b8a7bbdc-2869-4046-af3d-85a9d98edbda",
      "metadata": {
        "id": "b8a7bbdc-2869-4046-af3d-85a9d98edbda"
      },
      "source": [
        "### 1. **Cargar y Preprocesar el Dataset**\n",
        "\n",
        "- **Carga de Datos**: Se utilizó la biblioteca pandas para cargar el conjunto de datos desde un archivo CSV. Este conjunto de datos contiene información sobre diferentes vehículos, incluyendo características como el tipo de combustible, el número de cilindros, el peso, entre otros.\n",
        "  \n",
        "- **Manejo de Valores Faltantes**: Se reemplazaron los valores faltantes representados por '?' con NaN para facilitar su manejo. Posteriormente, se eliminaron las filas que contenían valores NaN en la columna fuel-type, asegurando que solo se incluyeran datos completos en el análisis."
      ]
    },
    {
      "cell_type": "code",
      "execution_count": null,
      "id": "7b1d0ac9-3405-4818-9099-19c2c388e336",
      "metadata": {
        "id": "7b1d0ac9-3405-4818-9099-19c2c388e336",
        "outputId": "21502ba8-8c5a-47e0-ea87-853eec93d0ff"
      },
      "outputs": [
        {
          "name": "stdout",
          "output_type": "stream",
          "text": [
            "   symboling normalized-losses         make fuel-type aspiration num-of-doors  \\\n",
            "0          3                 ?  alfa-romero       gas        std          two   \n",
            "1          3                 ?  alfa-romero       gas        std          two   \n",
            "2          1                 ?  alfa-romero       gas        std          two   \n",
            "3          2               164         audi       gas        std         four   \n",
            "4          2               164         audi       gas        std         four   \n",
            "\n",
            "    body-style drive-wheels engine-location  wheel-base  ...  engine-size  \\\n",
            "0  convertible          rwd           front        88.6  ...          130   \n",
            "1  convertible          rwd           front        88.6  ...          130   \n",
            "2    hatchback          rwd           front        94.5  ...          152   \n",
            "3        sedan          fwd           front        99.8  ...          109   \n",
            "4        sedan          4wd           front        99.4  ...          136   \n",
            "\n",
            "   fuel-system  bore  stroke compression-ratio horsepower  peak-rpm city-mpg  \\\n",
            "0         mpfi  3.47    2.68               9.0        111      5000       21   \n",
            "1         mpfi  3.47    2.68               9.0        111      5000       21   \n",
            "2         mpfi  2.68    3.47               9.0        154      5000       19   \n",
            "3         mpfi  3.19     3.4              10.0        102      5500       24   \n",
            "4         mpfi  3.19     3.4               8.0        115      5500       18   \n",
            "\n",
            "  highway-mpg  price  \n",
            "0          27  13495  \n",
            "1          27  16500  \n",
            "2          26  16500  \n",
            "3          30  13950  \n",
            "4          22  17450  \n",
            "\n",
            "[5 rows x 26 columns]\n"
          ]
        }
      ],
      "source": [
        "import pandas as pd\n",
        "import numpy as np\n",
        "\n",
        "# Cargar el dataset\n",
        "df = pd.read_csv(\"C:\\\\Users\\\\gonza\\\\Downloads\\\\archive\\\\Automobile_data.csv\")\n",
        "\n",
        "# Verificar\n",
        "print(df.head())"
      ]
    },
    {
      "cell_type": "code",
      "execution_count": null,
      "id": "ec3840bd-8df7-4433-b9dc-b690179d0425",
      "metadata": {
        "id": "ec3840bd-8df7-4433-b9dc-b690179d0425"
      },
      "outputs": [],
      "source": [
        "# Reemplazar ? con NaN\n",
        "df.replace('?', np.nan, inplace=True)\n",
        "\n",
        "\n",
        "# Eliminar filas con NaN\n",
        "df.dropna(subset=['fuel-type'], inplace=True)"
      ]
    },
    {
      "cell_type": "markdown",
      "id": "30fa586b-633e-42d6-bfbe-e5ae0dcb2c5f",
      "metadata": {
        "id": "30fa586b-633e-42d6-bfbe-e5ae0dcb2c5f"
      },
      "source": [
        "### 2. **Definir la Variable Objetivo codificar**\n",
        "\n",
        "- **Creación de la Variable Objetivo**: Se creó una nueva columna llamada target que indica si el tipo de combustible es \"gas\" (1) o \"diesel\" (0). Esto permite que el modelo aprenda a predecir el tipo de combustible basado en otras características del vehículo.\n",
        "\n",
        "- **Definición de Características**: Se definieron las características X que se utilizarían para entrenar el modelo, excluyendo la columna target y fuel-type, ya que esta se utilizó para crear la variable objetivo.\n",
        "\n",
        "- **Codificación de Variables**: Se utilizó get_dummies para convertir las variables categóricas en variables numéricas, para que los modelos de machine learning puedan procesar los datos, ya que requieren entradas numéricas."
      ]
    },
    {
      "cell_type": "code",
      "execution_count": null,
      "id": "a39b04bd-7798-4307-a4a3-1da0eede76bf",
      "metadata": {
        "id": "a39b04bd-7798-4307-a4a3-1da0eede76bf"
      },
      "outputs": [],
      "source": [
        "# Crear una nueva columna 'target' para la clasificación\n",
        "df['target'] = np.where(df['fuel-type'] == 'gas', 1, 0)  # 1 para gasolina, 0 para diesel\n",
        "\n",
        "# Eliminar filas con NaN\n",
        "df.dropna(subset=['target'], inplace=True)"
      ]
    },
    {
      "cell_type": "code",
      "execution_count": null,
      "id": "d576661e-8eb4-4e17-aa26-76441ca856ff",
      "metadata": {
        "id": "d576661e-8eb4-4e17-aa26-76441ca856ff"
      },
      "outputs": [],
      "source": [
        "# Codificar las variables categóricas, excluyendo 'fuel-type' ya que la hemos utilizado para crear 'target'\n",
        "df_encoded = pd.get_dummies(df, drop_first=True)\n",
        "\n",
        "\n",
        "# Definir características (X) y variable objetivo (y)\n",
        "X = df_encoded.drop(['target'], axis=1)  # Eliminar solo la columna 'target'\n",
        "y = df_encoded['target'].astype(int)  # Convertir a entero"
      ]
    },
    {
      "cell_type": "markdown",
      "id": "90b3ce59-54e5-457f-91e9-dd953c434f6a",
      "metadata": {
        "id": "90b3ce59-54e5-457f-91e9-dd953c434f6a"
      },
      "source": [
        "### 3. **Dividir el Dataset en Conjuntos de Entrenamiento y Prueba**\n",
        "\n",
        "- **División de Datos**: Se dividió el conjunto de datos en conjuntos de entrenamiento y prueba utilizando train_test de sklearn. Esto permite entrenar el modelo en un subconjunto de los datos y evaluar su rendimiento en un conjunto separado, asegurando que el modelo no esté sobreajustado."
      ]
    },
    {
      "cell_type": "code",
      "execution_count": null,
      "id": "fe0aed73-a5fa-424a-baa3-01ea13023222",
      "metadata": {
        "id": "fe0aed73-a5fa-424a-baa3-01ea13023222"
      },
      "outputs": [],
      "source": [
        "from sklearn.model_selection import train_test_split\n",
        "\n",
        "\n",
        "# Dividir el dataset\n",
        "X_train, X_test, y_train, y_test = train_test_split(X, y, test_size=0.2, random_state=42)"
      ]
    },
    {
      "cell_type": "markdown",
      "id": "600df577-e9f3-4f6c-9074-ee49d208f890",
      "metadata": {
        "id": "600df577-e9f3-4f6c-9074-ee49d208f890"
      },
      "source": [
        "### 4. **Entrenar un Modelo de Clasificación**\n",
        "\n",
        "- **Selección del Modelo**: Se eligió un modelo de clasificación, RandomForestClassifier, que es efectivo para problemas de clasificación.\n",
        "\n",
        "- **Entrenamiento del Modelo**: El modelo se entrenó utilizando el conjunto de entrenamiento, permitiéndole aprender a predecir el tipo de combustible basado en las características de los vehículos."
      ]
    },
    {
      "cell_type": "code",
      "execution_count": null,
      "id": "3364a4e0-d607-46a8-a364-337f1ef0a1e9",
      "metadata": {
        "id": "3364a4e0-d607-46a8-a364-337f1ef0a1e9",
        "outputId": "8abbab47-e579-46f4-e4fb-a3fb01874ace"
      },
      "outputs": [
        {
          "data": {
            "text/html": [
              "<style>#sk-container-id-1 {\n",
              "  /* Definition of color scheme common for light and dark mode */\n",
              "  --sklearn-color-text: black;\n",
              "  --sklearn-color-line: gray;\n",
              "  /* Definition of color scheme for unfitted estimators */\n",
              "  --sklearn-color-unfitted-level-0: #fff5e6;\n",
              "  --sklearn-color-unfitted-level-1: #f6e4d2;\n",
              "  --sklearn-color-unfitted-level-2: #ffe0b3;\n",
              "  --sklearn-color-unfitted-level-3: chocolate;\n",
              "  /* Definition of color scheme for fitted estimators */\n",
              "  --sklearn-color-fitted-level-0: #f0f8ff;\n",
              "  --sklearn-color-fitted-level-1: #d4ebff;\n",
              "  --sklearn-color-fitted-level-2: #b3dbfd;\n",
              "  --sklearn-color-fitted-level-3: cornflowerblue;\n",
              "\n",
              "  /* Specific color for light theme */\n",
              "  --sklearn-color-text-on-default-background: var(--sg-text-color, var(--theme-code-foreground, var(--jp-content-font-color1, black)));\n",
              "  --sklearn-color-background: var(--sg-background-color, var(--theme-background, var(--jp-layout-color0, white)));\n",
              "  --sklearn-color-border-box: var(--sg-text-color, var(--theme-code-foreground, var(--jp-content-font-color1, black)));\n",
              "  --sklearn-color-icon: #696969;\n",
              "\n",
              "  @media (prefers-color-scheme: dark) {\n",
              "    /* Redefinition of color scheme for dark theme */\n",
              "    --sklearn-color-text-on-default-background: var(--sg-text-color, var(--theme-code-foreground, var(--jp-content-font-color1, white)));\n",
              "    --sklearn-color-background: var(--sg-background-color, var(--theme-background, var(--jp-layout-color0, #111)));\n",
              "    --sklearn-color-border-box: var(--sg-text-color, var(--theme-code-foreground, var(--jp-content-font-color1, white)));\n",
              "    --sklearn-color-icon: #878787;\n",
              "  }\n",
              "}\n",
              "\n",
              "#sk-container-id-1 {\n",
              "  color: var(--sklearn-color-text);\n",
              "}\n",
              "\n",
              "#sk-container-id-1 pre {\n",
              "  padding: 0;\n",
              "}\n",
              "\n",
              "#sk-container-id-1 input.sk-hidden--visually {\n",
              "  border: 0;\n",
              "  clip: rect(1px 1px 1px 1px);\n",
              "  clip: rect(1px, 1px, 1px, 1px);\n",
              "  height: 1px;\n",
              "  margin: -1px;\n",
              "  overflow: hidden;\n",
              "  padding: 0;\n",
              "  position: absolute;\n",
              "  width: 1px;\n",
              "}\n",
              "\n",
              "#sk-container-id-1 div.sk-dashed-wrapped {\n",
              "  border: 1px dashed var(--sklearn-color-line);\n",
              "  margin: 0 0.4em 0.5em 0.4em;\n",
              "  box-sizing: border-box;\n",
              "  padding-bottom: 0.4em;\n",
              "  background-color: var(--sklearn-color-background);\n",
              "}\n",
              "\n",
              "#sk-container-id-1 div.sk-container {\n",
              "  /* jupyter's `normalize.less` sets `[hidden] { display: none; }`\n",
              "     but bootstrap.min.css set `[hidden] { display: none !important; }`\n",
              "     so we also need the `!important` here to be able to override the\n",
              "     default hidden behavior on the sphinx rendered scikit-learn.org.\n",
              "     See: https://github.com/scikit-learn/scikit-learn/issues/21755 */\n",
              "  display: inline-block !important;\n",
              "  position: relative;\n",
              "}\n",
              "\n",
              "#sk-container-id-1 div.sk-text-repr-fallback {\n",
              "  display: none;\n",
              "}\n",
              "\n",
              "div.sk-parallel-item,\n",
              "div.sk-serial,\n",
              "div.sk-item {\n",
              "  /* draw centered vertical line to link estimators */\n",
              "  background-image: linear-gradient(var(--sklearn-color-text-on-default-background), var(--sklearn-color-text-on-default-background));\n",
              "  background-size: 2px 100%;\n",
              "  background-repeat: no-repeat;\n",
              "  background-position: center center;\n",
              "}\n",
              "\n",
              "/* Parallel-specific style estimator block */\n",
              "\n",
              "#sk-container-id-1 div.sk-parallel-item::after {\n",
              "  content: \"\";\n",
              "  width: 100%;\n",
              "  border-bottom: 2px solid var(--sklearn-color-text-on-default-background);\n",
              "  flex-grow: 1;\n",
              "}\n",
              "\n",
              "#sk-container-id-1 div.sk-parallel {\n",
              "  display: flex;\n",
              "  align-items: stretch;\n",
              "  justify-content: center;\n",
              "  background-color: var(--sklearn-color-background);\n",
              "  position: relative;\n",
              "}\n",
              "\n",
              "#sk-container-id-1 div.sk-parallel-item {\n",
              "  display: flex;\n",
              "  flex-direction: column;\n",
              "}\n",
              "\n",
              "#sk-container-id-1 div.sk-parallel-item:first-child::after {\n",
              "  align-self: flex-end;\n",
              "  width: 50%;\n",
              "}\n",
              "\n",
              "#sk-container-id-1 div.sk-parallel-item:last-child::after {\n",
              "  align-self: flex-start;\n",
              "  width: 50%;\n",
              "}\n",
              "\n",
              "#sk-container-id-1 div.sk-parallel-item:only-child::after {\n",
              "  width: 0;\n",
              "}\n",
              "\n",
              "/* Serial-specific style estimator block */\n",
              "\n",
              "#sk-container-id-1 div.sk-serial {\n",
              "  display: flex;\n",
              "  flex-direction: column;\n",
              "  align-items: center;\n",
              "  background-color: var(--sklearn-color-background);\n",
              "  padding-right: 1em;\n",
              "  padding-left: 1em;\n",
              "}\n",
              "\n",
              "\n",
              "/* Toggleable style: style used for estimator/Pipeline/ColumnTransformer box that is\n",
              "clickable and can be expanded/collapsed.\n",
              "- Pipeline and ColumnTransformer use this feature and define the default style\n",
              "- Estimators will overwrite some part of the style using the `sk-estimator` class\n",
              "*/\n",
              "\n",
              "/* Pipeline and ColumnTransformer style (default) */\n",
              "\n",
              "#sk-container-id-1 div.sk-toggleable {\n",
              "  /* Default theme specific background. It is overwritten whether we have a\n",
              "  specific estimator or a Pipeline/ColumnTransformer */\n",
              "  background-color: var(--sklearn-color-background);\n",
              "}\n",
              "\n",
              "/* Toggleable label */\n",
              "#sk-container-id-1 label.sk-toggleable__label {\n",
              "  cursor: pointer;\n",
              "  display: block;\n",
              "  width: 100%;\n",
              "  margin-bottom: 0;\n",
              "  padding: 0.5em;\n",
              "  box-sizing: border-box;\n",
              "  text-align: center;\n",
              "}\n",
              "\n",
              "#sk-container-id-1 label.sk-toggleable__label-arrow:before {\n",
              "  /* Arrow on the left of the label */\n",
              "  content: \"▸\";\n",
              "  float: left;\n",
              "  margin-right: 0.25em;\n",
              "  color: var(--sklearn-color-icon);\n",
              "}\n",
              "\n",
              "#sk-container-id-1 label.sk-toggleable__label-arrow:hover:before {\n",
              "  color: var(--sklearn-color-text);\n",
              "}\n",
              "\n",
              "/* Toggleable content - dropdown */\n",
              "\n",
              "#sk-container-id-1 div.sk-toggleable__content {\n",
              "  max-height: 0;\n",
              "  max-width: 0;\n",
              "  overflow: hidden;\n",
              "  text-align: left;\n",
              "  /* unfitted */\n",
              "  background-color: var(--sklearn-color-unfitted-level-0);\n",
              "}\n",
              "\n",
              "#sk-container-id-1 div.sk-toggleable__content.fitted {\n",
              "  /* fitted */\n",
              "  background-color: var(--sklearn-color-fitted-level-0);\n",
              "}\n",
              "\n",
              "#sk-container-id-1 div.sk-toggleable__content pre {\n",
              "  margin: 0.2em;\n",
              "  border-radius: 0.25em;\n",
              "  color: var(--sklearn-color-text);\n",
              "  /* unfitted */\n",
              "  background-color: var(--sklearn-color-unfitted-level-0);\n",
              "}\n",
              "\n",
              "#sk-container-id-1 div.sk-toggleable__content.fitted pre {\n",
              "  /* unfitted */\n",
              "  background-color: var(--sklearn-color-fitted-level-0);\n",
              "}\n",
              "\n",
              "#sk-container-id-1 input.sk-toggleable__control:checked~div.sk-toggleable__content {\n",
              "  /* Expand drop-down */\n",
              "  max-height: 200px;\n",
              "  max-width: 100%;\n",
              "  overflow: auto;\n",
              "}\n",
              "\n",
              "#sk-container-id-1 input.sk-toggleable__control:checked~label.sk-toggleable__label-arrow:before {\n",
              "  content: \"▾\";\n",
              "}\n",
              "\n",
              "/* Pipeline/ColumnTransformer-specific style */\n",
              "\n",
              "#sk-container-id-1 div.sk-label input.sk-toggleable__control:checked~label.sk-toggleable__label {\n",
              "  color: var(--sklearn-color-text);\n",
              "  background-color: var(--sklearn-color-unfitted-level-2);\n",
              "}\n",
              "\n",
              "#sk-container-id-1 div.sk-label.fitted input.sk-toggleable__control:checked~label.sk-toggleable__label {\n",
              "  background-color: var(--sklearn-color-fitted-level-2);\n",
              "}\n",
              "\n",
              "/* Estimator-specific style */\n",
              "\n",
              "/* Colorize estimator box */\n",
              "#sk-container-id-1 div.sk-estimator input.sk-toggleable__control:checked~label.sk-toggleable__label {\n",
              "  /* unfitted */\n",
              "  background-color: var(--sklearn-color-unfitted-level-2);\n",
              "}\n",
              "\n",
              "#sk-container-id-1 div.sk-estimator.fitted input.sk-toggleable__control:checked~label.sk-toggleable__label {\n",
              "  /* fitted */\n",
              "  background-color: var(--sklearn-color-fitted-level-2);\n",
              "}\n",
              "\n",
              "#sk-container-id-1 div.sk-label label.sk-toggleable__label,\n",
              "#sk-container-id-1 div.sk-label label {\n",
              "  /* The background is the default theme color */\n",
              "  color: var(--sklearn-color-text-on-default-background);\n",
              "}\n",
              "\n",
              "/* On hover, darken the color of the background */\n",
              "#sk-container-id-1 div.sk-label:hover label.sk-toggleable__label {\n",
              "  color: var(--sklearn-color-text);\n",
              "  background-color: var(--sklearn-color-unfitted-level-2);\n",
              "}\n",
              "\n",
              "/* Label box, darken color on hover, fitted */\n",
              "#sk-container-id-1 div.sk-label.fitted:hover label.sk-toggleable__label.fitted {\n",
              "  color: var(--sklearn-color-text);\n",
              "  background-color: var(--sklearn-color-fitted-level-2);\n",
              "}\n",
              "\n",
              "/* Estimator label */\n",
              "\n",
              "#sk-container-id-1 div.sk-label label {\n",
              "  font-family: monospace;\n",
              "  font-weight: bold;\n",
              "  display: inline-block;\n",
              "  line-height: 1.2em;\n",
              "}\n",
              "\n",
              "#sk-container-id-1 div.sk-label-container {\n",
              "  text-align: center;\n",
              "}\n",
              "\n",
              "/* Estimator-specific */\n",
              "#sk-container-id-1 div.sk-estimator {\n",
              "  font-family: monospace;\n",
              "  border: 1px dotted var(--sklearn-color-border-box);\n",
              "  border-radius: 0.25em;\n",
              "  box-sizing: border-box;\n",
              "  margin-bottom: 0.5em;\n",
              "  /* unfitted */\n",
              "  background-color: var(--sklearn-color-unfitted-level-0);\n",
              "}\n",
              "\n",
              "#sk-container-id-1 div.sk-estimator.fitted {\n",
              "  /* fitted */\n",
              "  background-color: var(--sklearn-color-fitted-level-0);\n",
              "}\n",
              "\n",
              "/* on hover */\n",
              "#sk-container-id-1 div.sk-estimator:hover {\n",
              "  /* unfitted */\n",
              "  background-color: var(--sklearn-color-unfitted-level-2);\n",
              "}\n",
              "\n",
              "#sk-container-id-1 div.sk-estimator.fitted:hover {\n",
              "  /* fitted */\n",
              "  background-color: var(--sklearn-color-fitted-level-2);\n",
              "}\n",
              "\n",
              "/* Specification for estimator info (e.g. \"i\" and \"?\") */\n",
              "\n",
              "/* Common style for \"i\" and \"?\" */\n",
              "\n",
              ".sk-estimator-doc-link,\n",
              "a:link.sk-estimator-doc-link,\n",
              "a:visited.sk-estimator-doc-link {\n",
              "  float: right;\n",
              "  font-size: smaller;\n",
              "  line-height: 1em;\n",
              "  font-family: monospace;\n",
              "  background-color: var(--sklearn-color-background);\n",
              "  border-radius: 1em;\n",
              "  height: 1em;\n",
              "  width: 1em;\n",
              "  text-decoration: none !important;\n",
              "  margin-left: 1ex;\n",
              "  /* unfitted */\n",
              "  border: var(--sklearn-color-unfitted-level-1) 1pt solid;\n",
              "  color: var(--sklearn-color-unfitted-level-1);\n",
              "}\n",
              "\n",
              ".sk-estimator-doc-link.fitted,\n",
              "a:link.sk-estimator-doc-link.fitted,\n",
              "a:visited.sk-estimator-doc-link.fitted {\n",
              "  /* fitted */\n",
              "  border: var(--sklearn-color-fitted-level-1) 1pt solid;\n",
              "  color: var(--sklearn-color-fitted-level-1);\n",
              "}\n",
              "\n",
              "/* On hover */\n",
              "div.sk-estimator:hover .sk-estimator-doc-link:hover,\n",
              ".sk-estimator-doc-link:hover,\n",
              "div.sk-label-container:hover .sk-estimator-doc-link:hover,\n",
              ".sk-estimator-doc-link:hover {\n",
              "  /* unfitted */\n",
              "  background-color: var(--sklearn-color-unfitted-level-3);\n",
              "  color: var(--sklearn-color-background);\n",
              "  text-decoration: none;\n",
              "}\n",
              "\n",
              "div.sk-estimator.fitted:hover .sk-estimator-doc-link.fitted:hover,\n",
              ".sk-estimator-doc-link.fitted:hover,\n",
              "div.sk-label-container:hover .sk-estimator-doc-link.fitted:hover,\n",
              ".sk-estimator-doc-link.fitted:hover {\n",
              "  /* fitted */\n",
              "  background-color: var(--sklearn-color-fitted-level-3);\n",
              "  color: var(--sklearn-color-background);\n",
              "  text-decoration: none;\n",
              "}\n",
              "\n",
              "/* Span, style for the box shown on hovering the info icon */\n",
              ".sk-estimator-doc-link span {\n",
              "  display: none;\n",
              "  z-index: 9999;\n",
              "  position: relative;\n",
              "  font-weight: normal;\n",
              "  right: .2ex;\n",
              "  padding: .5ex;\n",
              "  margin: .5ex;\n",
              "  width: min-content;\n",
              "  min-width: 20ex;\n",
              "  max-width: 50ex;\n",
              "  color: var(--sklearn-color-text);\n",
              "  box-shadow: 2pt 2pt 4pt #999;\n",
              "  /* unfitted */\n",
              "  background: var(--sklearn-color-unfitted-level-0);\n",
              "  border: .5pt solid var(--sklearn-color-unfitted-level-3);\n",
              "}\n",
              "\n",
              ".sk-estimator-doc-link.fitted span {\n",
              "  /* fitted */\n",
              "  background: var(--sklearn-color-fitted-level-0);\n",
              "  border: var(--sklearn-color-fitted-level-3);\n",
              "}\n",
              "\n",
              ".sk-estimator-doc-link:hover span {\n",
              "  display: block;\n",
              "}\n",
              "\n",
              "/* \"?\"-specific style due to the `<a>` HTML tag */\n",
              "\n",
              "#sk-container-id-1 a.estimator_doc_link {\n",
              "  float: right;\n",
              "  font-size: 1rem;\n",
              "  line-height: 1em;\n",
              "  font-family: monospace;\n",
              "  background-color: var(--sklearn-color-background);\n",
              "  border-radius: 1rem;\n",
              "  height: 1rem;\n",
              "  width: 1rem;\n",
              "  text-decoration: none;\n",
              "  /* unfitted */\n",
              "  color: var(--sklearn-color-unfitted-level-1);\n",
              "  border: var(--sklearn-color-unfitted-level-1) 1pt solid;\n",
              "}\n",
              "\n",
              "#sk-container-id-1 a.estimator_doc_link.fitted {\n",
              "  /* fitted */\n",
              "  border: var(--sklearn-color-fitted-level-1) 1pt solid;\n",
              "  color: var(--sklearn-color-fitted-level-1);\n",
              "}\n",
              "\n",
              "/* On hover */\n",
              "#sk-container-id-1 a.estimator_doc_link:hover {\n",
              "  /* unfitted */\n",
              "  background-color: var(--sklearn-color-unfitted-level-3);\n",
              "  color: var(--sklearn-color-background);\n",
              "  text-decoration: none;\n",
              "}\n",
              "\n",
              "#sk-container-id-1 a.estimator_doc_link.fitted:hover {\n",
              "  /* fitted */\n",
              "  background-color: var(--sklearn-color-fitted-level-3);\n",
              "}\n",
              "</style><div id=\"sk-container-id-1\" class=\"sk-top-container\"><div class=\"sk-text-repr-fallback\"><pre>RandomForestClassifier(random_state=42)</pre><b>In a Jupyter environment, please rerun this cell to show the HTML representation or trust the notebook. <br />On GitHub, the HTML representation is unable to render, please try loading this page with nbviewer.org.</b></div><div class=\"sk-container\" hidden><div class=\"sk-item\"><div class=\"sk-estimator fitted sk-toggleable\"><input class=\"sk-toggleable__control sk-hidden--visually\" id=\"sk-estimator-id-1\" type=\"checkbox\" checked><label for=\"sk-estimator-id-1\" class=\"sk-toggleable__label fitted sk-toggleable__label-arrow fitted\">&nbsp;&nbsp;RandomForestClassifier<a class=\"sk-estimator-doc-link fitted\" rel=\"noreferrer\" target=\"_blank\" href=\"https://scikit-learn.org/1.5/modules/generated/sklearn.ensemble.RandomForestClassifier.html\">?<span>Documentation for RandomForestClassifier</span></a><span class=\"sk-estimator-doc-link fitted\">i<span>Fitted</span></span></label><div class=\"sk-toggleable__content fitted\"><pre>RandomForestClassifier(random_state=42)</pre></div> </div></div></div></div>"
            ],
            "text/plain": [
              "RandomForestClassifier(random_state=42)"
            ]
          },
          "execution_count": 103,
          "metadata": {},
          "output_type": "execute_result"
        }
      ],
      "source": [
        "from sklearn.ensemble import RandomForestClassifier\n",
        "\n",
        "# Crear el modelo\n",
        "model = RandomForestClassifier(random_state=42)\n",
        "\n",
        "# Entrenar el modelo\n",
        "model.fit(X_train, y_train)"
      ]
    },
    {
      "cell_type": "markdown",
      "id": "c4112f2a-cbc0-49c9-bbba-cabfeb963dee",
      "metadata": {
        "id": "c4112f2a-cbc0-49c9-bbba-cabfeb963dee"
      },
      "source": [
        "### 5. **Evaluar el Modelo**\n",
        "\n",
        "- **Predicciones y Evaluación**: Se realizaron predicciones en el conjunto de prueba y se evaluó el rendimiento del modelo utilizando métricas como la precisión, la matriz de confusión y el reporte de clasificación. Esto proporciona una visión clara de cuán bien el modelo está funcionando."
      ]
    },
    {
      "cell_type": "code",
      "execution_count": null,
      "id": "57669c6d-87c7-4e80-8ad7-a472b2ad14a6",
      "metadata": {
        "id": "57669c6d-87c7-4e80-8ad7-a472b2ad14a6",
        "outputId": "f850cf9c-7d00-48e7-a164-7f332589ed39"
      },
      "outputs": [
        {
          "name": "stdout",
          "output_type": "stream",
          "text": [
            "Precisión del modelo: 1.00\n"
          ]
        },
        {
          "data": {
            "image/png": "[encoded data removed]",
            "text/plain": [
              "<Figure size 800x600 with 2 Axes>"
            ]
          },
          "metadata": {},
          "output_type": "display_data"
        },
        {
          "name": "stdout",
          "output_type": "stream",
          "text": [
            "              precision    recall  f1-score   support\n",
            "\n",
            "           0       1.00      1.00      1.00         5\n",
            "           1       1.00      1.00      1.00        36\n",
            "\n",
            "    accuracy                           1.00        41\n",
            "   macro avg       1.00      1.00      1.00        41\n",
            "weighted avg       1.00      1.00      1.00        41\n",
            "\n"
          ]
        }
      ],
      "source": [
        "from sklearn.metrics import accuracy_score, confusion_matrix, classification_report\n",
        "\n",
        "\n",
        "# Predecir en el conjunto de prueba\n",
        "y_pred = model.predict(X_test)\n",
        "\n",
        "\n",
        "# Calcular la precisión\n",
        "accuracy = accuracy_score(y_test, y_pred)\n",
        "print(f'Precisión del modelo: {accuracy:.2f}')\n",
        "\n",
        "\n",
        "# Crear la matriz de confusión\n",
        "conf_mat = confusion_matrix(y_test, y_pred)\n",
        "\n",
        "import seaborn as sns\n",
        "import matplotlib.pyplot as plt\n",
        "\n",
        "plt.figure(figsize=(8, 6))\n",
        "sns.heatmap(conf_mat, annot=True, fmt=\"d\", cmap='Blues')\n",
        "plt.xlabel('Clase Predicha')\n",
        "plt.ylabel('Clase Real')\n",
        "plt.title('Matriz de Confusión')\n",
        "plt.show()\n",
        "\n",
        "\n",
        "# Reporte de clasificación\n",
        "print(classification_report(y_test, y_pred))"
      ]
    },
    {
      "cell_type": "markdown",
      "id": "afa5bf12-afe7-494c-a0e5-645d74d427a9",
      "metadata": {
        "id": "afa5bf12-afe7-494c-a0e5-645d74d427a9"
      },
      "source": [
        "### 6. **Visualización de Resultados**\n",
        "\n",
        "Se incluyeron varias visualizaciones para entender mejor el rendimiento del modelo y los datos:\n",
        "  - **Distribución de la Variable Objetivo**: Se visualizó cuántos vehículos son de nafta y cuántos son diesel.\n",
        "  - **Matriz de Confusión**: Se presentó la matriz de confusión para evaluar el rendimiento del modelo en verdaderos positivos y falsos positivos.\n",
        "  - **Curva ROC y AUC**: Se evaluó el rendimiento del modelo en diferentes umbrales de clasificación."
      ]
    },
    {
      "cell_type": "code",
      "execution_count": null,
      "id": "d6ad43b9-f678-49f2-9dcd-48a1b270464c",
      "metadata": {
        "id": "d6ad43b9-f678-49f2-9dcd-48a1b270464c",
        "outputId": "3653925a-072a-47e9-b533-ad9f675e46df"
      },
      "outputs": [
        {
          "data": {
            "image/png": "[encoded data removed]",
            "text/plain": [
              "<Figure size 800x600 with 1 Axes>"
            ]
          },
          "metadata": {},
          "output_type": "display_data"
        }
      ],
      "source": [
        "import matplotlib.pyplot as plt\n",
        "import seaborn as sns\n",
        "\n",
        "# Visualizar la distribución de la variable objetivo\n",
        "plt.figure(figsize=(8, 6))\n",
        "sns.countplot(x='target', data=df_encoded)\n",
        "plt.title('Distribución de la Variable Objetivo (Nafta vs Diesel)')\n",
        "plt.xlabel('Tipo de Combustible (0: Diesel, 1: Nafta)')\n",
        "plt.ylabel('Cantidad')\n",
        "plt.xticks(ticks=[0, 1], labels=['Diesel', 'Nafta'])\n",
        "plt.show()"
      ]
    },
    {
      "cell_type": "code",
      "execution_count": null,
      "id": "7390aac1-b519-4fb2-8891-63609bc30fe2",
      "metadata": {
        "id": "7390aac1-b519-4fb2-8891-63609bc30fe2",
        "outputId": "6db5f8b1-03c3-4f5b-f1f2-b8f12c49f6f8"
      },
      "outputs": [
        {
          "data": {
            "image/png": "[encoded data removed]",
            "text/plain": [
              "<Figure size 800x600 with 1 Axes>"
            ]
          },
          "metadata": {},
          "output_type": "display_data"
        }
      ],
      "source": [
        "from sklearn.metrics import roc_curve, auc\n",
        "\n",
        "\n",
        "# Calcular la curva ROC\n",
        "fpr, tpr, thresholds = roc_curve(y_test, model.predict_proba(X_test)[:, 1])\n",
        "roc_auc = auc(fpr, tpr)\n",
        "\n",
        "plt.figure(figsize=(8, 6))\n",
        "plt.plot(fpr, tpr, color='blue', label='Curva ROC (AUC = {:.2f})'.format(roc_auc))\n",
        "plt.plot([0, 1], [0, 1], color='red', linestyle='--')\n",
        "plt.xlim([0.0, 1.0])\n",
        "plt.ylim([0.0, 1.05])\n",
        "plt.xlabel('Tasa de Falsos Positivos')\n",
        "plt.ylabel('Tasa de Verdaderos Positivos')\n",
        "plt.title('Curva ROC')\n",
        "plt.legend(loc='lower right')\n",
        "plt.show()"
      ]
    },
    {
      "cell_type": "markdown",
      "id": "3ce34f1a-1c64-4898-832a-ecaeeece50fe",
      "metadata": {
        "id": "3ce34f1a-1c64-4898-832a-ecaeeece50fe"
      },
      "source": [
        "### **Conclusión**\n",
        "\n",
        "En este proyecto se ha podido desarrollar un modelo predictivo efectivo para clasificar vehículos según su tipo de combustible. Y se ha logrado obtener un modelo que puede ser útil para la toma de decisiones en la industria automotriz, ademas de nuestro objetivo en particular.\n",
        "Por lo tanto podemos validar la hipotesis nula, pudiendo predecir el tipo de combustible que utiliza el auto con distintas variables propias del vehiculo."
      ]
    },
    {
      "cell_type": "code",
      "execution_count": null,
      "id": "a8fe9384-9d7e-42c6-94f1-3b96b7002828",
      "metadata": {
        "id": "a8fe9384-9d7e-42c6-94f1-3b96b7002828"
      },
      "outputs": [],
      "source": []
    }
  ],
  "metadata": {
    "kernelspec": {
      "display_name": "Python [conda env:base] *",
      "language": "python",
      "name": "conda-base-py"
    },
    "language_info": {
      "codemirror_mode": {
        "name": "ipython",
        "version": 3
      },
      "file_extension": ".py",
      "mimetype": "text/x-python",
      "name": "python",
      "nbconvert_exporter": "python",
      "pygments_lexer": "ipython3",
      "version": "3.12.7"
    },
    "colab": {
      "provenance": [],
      "include_colab_link": true
    }
  },
  "nbformat": 4,
  "nbformat_minor": 5
}